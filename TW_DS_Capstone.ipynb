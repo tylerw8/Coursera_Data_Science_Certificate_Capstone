{
 "cells": [
  {
   "cell_type": "markdown",
   "metadata": {},
   "source": [
    "<h1>Tyler Waite's IBM Certificate in Data Science Capstone Project Notebook</h1>"
   ]
  },
  {
   "cell_type": "markdown",
   "metadata": {},
   "source": [
    "## Introduction"
   ]
  },
  {
   "cell_type": "markdown",
   "metadata": {},
   "source": [
    "**Audience:** Client is looking to purchase a coffee franchise in the state of Washington. They are looking to invest in a mid-size city that is not as saturated with existing coffee shops. Vancouver and Bellingham Washington have been proposed as possible locations.  Client needs data on how saturated the coffee market is in these two cities and what brands are the most popular and most common in these cities.\n",
    "\n",
    "This notebook will use Foursquare to determine how many coffee shops are located in Vancouver and Bellingham.  It will determine which brands are represented and which brands have the highest customer ratings. The analysis will be limited to the brands that are available in Foursquare: Starbucks, Tim Hortons, Caribou Coffee, Coffee Bean & Tea Leaf, Dunkin Coffee & Dunkin Donuts, and Peet's Coffee & Tea.  I tried searching for other national brands such as Tully's and Dutch Brothers on the Foursquare site, but they did not return any matches. The city comparison will also look at: population size, average income.  \n",
    "\n",
    "Once the best city is identified, then I will create a map of coffee shops in the city to identify which neighborhoood in that city has the least amount of coffee shops.  The conclusion will recommend the best city, the best neighborhood, and which franchises are the most common and least common in the neighborhood.\n",
    "\n",
    "Stretch goal: Attempt to integrate franchise cost and company stock performance into the recommendation.\n",
    "\n"
   ]
  },
  {
   "cell_type": "code",
   "execution_count": 4,
   "metadata": {},
   "outputs": [],
   "source": [
    "# import pandas library\n",
    "import pandas as pd\n",
    "import numpy as np"
   ]
  },
  {
   "cell_type": "code",
   "execution_count": 5,
   "metadata": {},
   "outputs": [
    {
     "name": "stdout",
     "output_type": "stream",
     "text": [
      "Hello Capstone Project Course!\n"
     ]
    }
   ],
   "source": [
    "print(\"Hello Capstone Project Course!\")"
   ]
  },
  {
   "cell_type": "code",
   "execution_count": null,
   "metadata": {},
   "outputs": [],
   "source": []
  },
  {
   "cell_type": "code",
   "execution_count": null,
   "metadata": {},
   "outputs": [],
   "source": []
  }
 ],
 "metadata": {
  "kernelspec": {
   "display_name": "Python",
   "language": "python",
   "name": "conda-env-python-py"
  },
  "language_info": {
   "codemirror_mode": {
    "name": "ipython",
    "version": 3
   },
   "file_extension": ".py",
   "mimetype": "text/x-python",
   "name": "python",
   "nbconvert_exporter": "python",
   "pygments_lexer": "ipython3",
   "version": "3.6.10"
  }
 },
 "nbformat": 4,
 "nbformat_minor": 4
}
