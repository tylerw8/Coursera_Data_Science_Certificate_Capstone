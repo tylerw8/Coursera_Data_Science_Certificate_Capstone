{
 "cells": [
  {
   "cell_type": "markdown",
   "metadata": {},
   "source": [
    "<h1>Tyler Waite's IBM Certificate in Data Science Capstone Project Notebook</h1>"
   ]
  },
  {
   "cell_type": "markdown",
   "metadata": {},
   "source": [
    "## Introduction"
   ]
  },
  {
   "cell_type": "markdown",
   "metadata": {},
   "source": [
    "This notebook will use Foursquare to determine how many coffee shops are in each of four cities in the state of Washington in order to determine which one has the lowest number and thus may be the best city in which to invest in building more coffee shops.  \n",
    "\n",
    "The analysis will be limited to the brands that are available in Foursquare: Starbucks, Tim Hortons, Caribou Coffee, Coffee Bean & Tea Leaf, Dunkin Coffee & Dunkin Donuts, and Peet's Coffee & Tea.  I tried searching for other national brands such as Tully's and Dutch Brothers on the Foursquare site, but they did not return any matches.  The two Washington State cities that will be used in the project are Bellingham, and Vancouver.  \n",
    "\n",
    "The city comparison will look at: Population Size, Average Income, Number of Coffee Shops total and by brand.  Once the best city is identified, then I will create a map of coffee shops in the city to identify which neighborhoood in that city has the least amount of coffee shops.\n",
    "\n",
    "The conclusion will recommend the best city, the best neighborhood, and which franchises are the most common and least common in the neighborhood.\n",
    "\n",
    "Stretch goal: Attempt to integrate franchise cost and company stock performance into the recommendation.\n",
    "\n"
   ]
  },
  {
   "cell_type": "code",
   "execution_count": 4,
   "metadata": {},
   "outputs": [],
   "source": [
    "# import pandas library\n",
    "import pandas as pd\n",
    "import numpy as np"
   ]
  },
  {
   "cell_type": "code",
   "execution_count": 5,
   "metadata": {},
   "outputs": [
    {
     "name": "stdout",
     "output_type": "stream",
     "text": [
      "Hello Capstone Project Course!\n"
     ]
    }
   ],
   "source": [
    "print(\"Hello Capstone Project Course!\")"
   ]
  },
  {
   "cell_type": "code",
   "execution_count": null,
   "metadata": {},
   "outputs": [],
   "source": []
  },
  {
   "cell_type": "code",
   "execution_count": null,
   "metadata": {},
   "outputs": [],
   "source": []
  }
 ],
 "metadata": {
  "kernelspec": {
   "display_name": "Python",
   "language": "python",
   "name": "conda-env-python-py"
  },
  "language_info": {
   "codemirror_mode": {
    "name": "ipython",
    "version": 3
   },
   "file_extension": ".py",
   "mimetype": "text/x-python",
   "name": "python",
   "nbconvert_exporter": "python",
   "pygments_lexer": "ipython3",
   "version": "3.6.10"
  }
 },
 "nbformat": 4,
 "nbformat_minor": 4
}
