{
 "cells": [
  {
   "cell_type": "markdown",
   "metadata": {},
   "source": [
    "# Which city needs more coffee? \n",
    "## An exploration of data related to coffee consumption, market saturation, and potential market size between Vancouver, Washington and Bellingham, Washington.\n",
    "### Tyler Waite's IBM Certificate in Data Science Capstone Project Notebook \n",
    "### April 16, 2020"
   ]
  },
  {
   "cell_type": "markdown",
   "metadata": {},
   "source": [
    "## Introduction"
   ]
  },
  {
   "cell_type": "markdown",
   "metadata": {},
   "source": [
    "**Audience:**\n",
    "\n",
    "For the purpose of this notebook the \"audience\" is a client who is looking to purchase a coffee franchise in the state of Washington. They are looking to invest in a mid-size city that is not as saturated with existing coffee shops. Vancouver and Bellingham Washington have been proposed as possible locations.  The client needs data on how saturated the coffee market is in these two cities and what brands are the most popular and most common in these cities.\n",
    "\n",
    "**Method**\n",
    "\n",
    "This notebook will do some basic data exploration of cities and regions that are rated as having great coffee.  It will illustrate how to use screen scraping to get latitude and longitude data from a Wikipedia page for the two cities.  It will show how to use geopy geolocator to get the latitude and longitude for the two cities. The latitude and longitude data will be passed to Folium rendering library to generate a map of the two cities.  The latitude and longitude data will also be passed to Foursquare to determine how many coffee shops are located in Vancouver and Bellingham.  In addition there will be a comparison of the population sizes of the two cities to determine which one has a larger potential market.  \n",
    "\n",
    "Note: The analysis is limited to the brands that are available as venues in Foursquare.  The only national brands listed in Foursquare are Starbucks, Tim Hortons, Caribou Coffee, Coffee Bean & Tea Leaf, Dunkin Coffee & Dunkin Donuts, and Peet's Coffee & Tea.  I tried searching for other national brands such as Tully's and Dutch Brothers on the Foursquare site, but they did not return any matches.  \n"
   ]
  },
  {
   "cell_type": "markdown",
   "metadata": {},
   "source": [
    "## Import Libraries"
   ]
  },
  {
   "cell_type": "code",
   "execution_count": 1,
   "metadata": {},
   "outputs": [
    {
     "name": "stdout",
     "output_type": "stream",
     "text": [
      "Collecting package metadata (current_repodata.json): done\n",
      "Solving environment: done\n",
      "\n",
      "## Package Plan ##\n",
      "\n",
      "  environment location: /home/jupyterlab/conda/envs/python\n",
      "\n",
      "  added / updated specs:\n",
      "    - geopy\n",
      "\n",
      "\n",
      "The following packages will be downloaded:\n",
      "\n",
      "    package                    |            build\n",
      "    ---------------------------|-----------------\n",
      "    geographiclib-1.50         |             py_0          34 KB  conda-forge\n",
      "    geopy-1.21.0               |             py_0          58 KB  conda-forge\n",
      "    ------------------------------------------------------------\n",
      "                                           Total:          92 KB\n",
      "\n",
      "The following NEW packages will be INSTALLED:\n",
      "\n",
      "  geographiclib      conda-forge/noarch::geographiclib-1.50-py_0\n",
      "  geopy              conda-forge/noarch::geopy-1.21.0-py_0\n",
      "\n",
      "\n",
      "\n",
      "Downloading and Extracting Packages\n",
      "geopy-1.21.0         | 58 KB     | ##################################### | 100% \n",
      "geographiclib-1.50   | 34 KB     | ##################################### | 100% \n",
      "Preparing transaction: done\n",
      "Verifying transaction: done\n",
      "Executing transaction: done\n",
      "Collecting package metadata (current_repodata.json): done\n",
      "Solving environment: failed with initial frozen solve. Retrying with flexible solve.\n",
      "Collecting package metadata (repodata.json): done\n",
      "Solving environment: done\n",
      "\n",
      "## Package Plan ##\n",
      "\n",
      "  environment location: /home/jupyterlab/conda/envs/python\n",
      "\n",
      "  added / updated specs:\n",
      "    - folium=0.5.0\n",
      "\n",
      "\n",
      "The following packages will be downloaded:\n",
      "\n",
      "    package                    |            build\n",
      "    ---------------------------|-----------------\n",
      "    altair-4.1.0               |             py_1         614 KB  conda-forge\n",
      "    branca-0.4.0               |             py_0          26 KB  conda-forge\n",
      "    chardet-3.0.4              |py36h9f0ad1d_1006         188 KB  conda-forge\n",
      "    cryptography-2.8           |   py36h45558ae_2         628 KB  conda-forge\n",
      "    folium-0.5.0               |             py_0          45 KB  conda-forge\n",
      "    jinja2-2.11.2              |     pyh9f0ad1d_0          93 KB  conda-forge\n",
      "    pandas-1.0.3               |   py36h830a2c2_0        11.1 MB  conda-forge\n",
      "    pysocks-1.7.1              |   py36h9f0ad1d_1          27 KB  conda-forge\n",
      "    toolz-0.10.0               |             py_0          46 KB  conda-forge\n",
      "    urllib3-1.25.8             |   py36h9f0ad1d_1         160 KB  conda-forge\n",
      "    vincent-0.4.4              |             py_1          28 KB  conda-forge\n",
      "    ------------------------------------------------------------\n",
      "                                           Total:        12.9 MB\n",
      "\n",
      "The following NEW packages will be INSTALLED:\n",
      "\n",
      "  altair             conda-forge/noarch::altair-4.1.0-py_1\n",
      "  attrs              conda-forge/noarch::attrs-19.3.0-py_0\n",
      "  branca             conda-forge/noarch::branca-0.4.0-py_0\n",
      "  chardet            conda-forge/linux-64::chardet-3.0.4-py36h9f0ad1d_1006\n",
      "  cryptography       conda-forge/linux-64::cryptography-2.8-py36h45558ae_2\n",
      "  entrypoints        conda-forge/linux-64::entrypoints-0.3-py36h9f0ad1d_1001\n",
      "  folium             conda-forge/noarch::folium-0.5.0-py_0\n",
      "  idna               conda-forge/noarch::idna-2.9-py_1\n",
      "  importlib-metadata conda-forge/linux-64::importlib-metadata-1.6.0-py36h9f0ad1d_0\n",
      "  importlib_metadata conda-forge/noarch::importlib_metadata-1.6.0-0\n",
      "  jinja2             conda-forge/noarch::jinja2-2.11.2-pyh9f0ad1d_0\n",
      "  jsonschema         conda-forge/linux-64::jsonschema-3.2.0-py36h9f0ad1d_1\n",
      "  markupsafe         conda-forge/linux-64::markupsafe-1.1.1-py36h8c4c3a4_1\n",
      "  pandas             conda-forge/linux-64::pandas-1.0.3-py36h830a2c2_0\n",
      "  pyopenssl          conda-forge/noarch::pyopenssl-19.1.0-py_1\n",
      "  pyrsistent         conda-forge/linux-64::pyrsistent-0.16.0-py36h8c4c3a4_0\n",
      "  pysocks            conda-forge/linux-64::pysocks-1.7.1-py36h9f0ad1d_1\n",
      "  pytz               conda-forge/noarch::pytz-2019.3-py_0\n",
      "  requests           conda-forge/noarch::requests-2.23.0-pyh8c360ce_2\n",
      "  toolz              conda-forge/noarch::toolz-0.10.0-py_0\n",
      "  urllib3            conda-forge/linux-64::urllib3-1.25.8-py36h9f0ad1d_1\n",
      "  vincent            conda-forge/noarch::vincent-0.4.4-py_1\n",
      "  zipp               conda-forge/noarch::zipp-3.1.0-py_0\n",
      "\n",
      "\n",
      "\n",
      "Downloading and Extracting Packages\n",
      "jinja2-2.11.2        | 93 KB     | ##################################### | 100% \n",
      "pysocks-1.7.1        | 27 KB     | ##################################### | 100% \n",
      "cryptography-2.8     | 628 KB    | ##################################### | 100% \n",
      "toolz-0.10.0         | 46 KB     | ##################################### | 100% \n",
      "pandas-1.0.3         | 11.1 MB   | ##################################### | 100% \n",
      "chardet-3.0.4        | 188 KB    | ##################################### | 100% \n",
      "urllib3-1.25.8       | 160 KB    | ##################################### | 100% \n",
      "folium-0.5.0         | 45 KB     | ##################################### | 100% \n",
      "altair-4.1.0         | 614 KB    | ##################################### | 100% \n",
      "branca-0.4.0         | 26 KB     | ##################################### | 100% \n",
      "vincent-0.4.4        | 28 KB     | ##################################### | 100% \n",
      "Preparing transaction: done\n",
      "Verifying transaction: done\n",
      "Executing transaction: done\n",
      "Libraries imported.\n"
     ]
    }
   ],
   "source": [
    "import numpy as np # library to handle data in a vectorized manner\n",
    "\n",
    "import pandas as pd # library for data analsysis\n",
    "pd.set_option('display.max_columns', None)\n",
    "pd.set_option('display.max_rows', None)\n",
    "\n",
    "import json # library to handle JSON files\n",
    "\n",
    "!conda install -c conda-forge geopy --yes # uncomment this line if you haven't completed the Foursquare API lab\n",
    "from geopy.geocoders import Nominatim # convert an address into latitude and longitude values\n",
    "\n",
    "import requests # library to handle requests\n",
    "from pandas.io.json import json_normalize # tranform JSON file into a pandas dataframe\n",
    "\n",
    "# Matplotlib and associated plotting modules\n",
    "import matplotlib.cm as cm\n",
    "import matplotlib.colors as colors\n",
    "import matplotlib.pyplot as plt\n",
    "\n",
    "# import k-means from clustering stage\n",
    "from sklearn.cluster import KMeans\n",
    "\n",
    "!conda install -c conda-forge folium=0.5.0 --yes # uncomment this line if you haven't completed the Foursquare API lab\n",
    "import folium # map rendering library\n",
    "\n",
    "\n",
    "print('Libraries imported.')"
   ]
  },
  {
   "cell_type": "code",
   "execution_count": 2,
   "metadata": {},
   "outputs": [
    {
     "name": "stdout",
     "output_type": "stream",
     "text": [
      "Collecting beautifulsoup4\n",
      "\u001b[?25l  Downloading https://files.pythonhosted.org/packages/e8/b5/7bb03a696f2c9b7af792a8f51b82974e51c268f15e925fc834876a4efa0b/beautifulsoup4-4.9.0-py3-none-any.whl (109kB)\n",
      "\u001b[K     |████████████████████████████████| 112kB 6.9MB/s eta 0:00:01\n",
      "\u001b[?25hCollecting soupsieve>1.2 (from beautifulsoup4)\n",
      "  Downloading https://files.pythonhosted.org/packages/05/cf/ea245e52f55823f19992447b008bcbb7f78efc5960d77f6c34b5b45b36dd/soupsieve-2.0-py2.py3-none-any.whl\n",
      "Installing collected packages: soupsieve, beautifulsoup4\n",
      "Successfully installed beautifulsoup4-4.9.0 soupsieve-2.0\n",
      "Collecting lxml\n",
      "\u001b[?25l  Downloading https://files.pythonhosted.org/packages/dd/ba/a0e6866057fc0bbd17192925c1d63a3b85cf522965de9bc02364d08e5b84/lxml-4.5.0-cp36-cp36m-manylinux1_x86_64.whl (5.8MB)\n",
      "\u001b[K     |████████████████████████████████| 5.8MB 7.7MB/s eta 0:00:01\n",
      "\u001b[?25hInstalling collected packages: lxml\n",
      "Successfully installed lxml-4.5.0\n",
      "Requirement already satisfied: html5lib in /home/jupyterlab/conda/envs/python/lib/python3.6/site-packages (0.9999999)\n",
      "Requirement already satisfied: six in /home/jupyterlab/conda/envs/python/lib/python3.6/site-packages (from html5lib) (1.14.0)\n",
      "Requirement already satisfied: requests in /home/jupyterlab/conda/envs/python/lib/python3.6/site-packages (2.23.0)\n",
      "Requirement already satisfied: certifi>=2017.4.17 in /home/jupyterlab/conda/envs/python/lib/python3.6/site-packages (from requests) (2020.4.5.1)\n",
      "Requirement already satisfied: chardet<4,>=3.0.2 in /home/jupyterlab/conda/envs/python/lib/python3.6/site-packages (from requests) (3.0.4)\n",
      "Requirement already satisfied: urllib3!=1.25.0,!=1.25.1,<1.26,>=1.21.1 in /home/jupyterlab/conda/envs/python/lib/python3.6/site-packages (from requests) (1.25.8)\n",
      "Requirement already satisfied: idna<3,>=2.5 in /home/jupyterlab/conda/envs/python/lib/python3.6/site-packages (from requests) (2.9)\n",
      "Beautiful Soup, lxml, html5lib, and requests are installed.\n"
     ]
    }
   ],
   "source": [
    "#Install Web Parsing libraries to pull city demographic data.\n",
    "!pip install beautifulsoup4\n",
    "!pip install lxml\n",
    "!pip install html5lib \n",
    "!pip install requests\n",
    "print('Beautiful Soup, lxml, html5lib, and requests are installed.')"
   ]
  },
  {
   "cell_type": "markdown",
   "metadata": {},
   "source": [
    "## Data - Which regions have the most cities in the top 100 \"Best Cities for Coffee Lovers\"?"
   ]
  },
  {
   "cell_type": "code",
   "execution_count": 18,
   "metadata": {},
   "outputs": [
    {
     "name": "stdout",
     "output_type": "stream",
     "text": [
      "    Rank                   City State        Region  Score\n",
      "0      1            Seattle, WA    WA    North West  69.44\n",
      "1      2           New York, NY    NY  Mid Atlantic  67.42\n",
      "2      3      San Francisco, CA    CA          West  65.31\n",
      "3      4           Portland, OR    OR    North West  64.88\n",
      "4      5        Los Angeles, CA    CA          West  60.23\n",
      "5      6            Chicago, IL    IL      Mid West  57.09\n",
      "6      7         Washington, DC    DC  Mid Atlantic  54.26\n",
      "7      8              Miami, FL    FL    South East  53.60\n",
      "8      9          San Diego, CA    CA          West  51.04\n",
      "9     10             Boston, MA    MA    North East  48.61\n",
      "10    11       Philadelphia, PA    PA  Mid Atlantic  47.31\n",
      "11    12            Atlanta, GA    GA    South East  47.31\n",
      "12    13             Denver, CO    CO    South West  47.20\n",
      "13    14          Las Vegas, NV    NV          West  46.93\n",
      "14    15            Orlando, FL    FL    South East  45.87\n",
      "15    16        Minneapolis, MN    MN      Mid West  44.90\n",
      "16    17            Oakland, CA    CA          West  44.71\n",
      "17    18              Tampa, FL    FL    South East  44.36\n",
      "18    19         Pittsburgh, PA    PA  Mid Atlantic  44.30\n",
      "19    20             Austin, TX    TX    South West  43.75\n",
      "20    21         Long Beach, CA    CA          West  43.17\n",
      "21    22           Honolulu, HI    HI       Pacific  42.54\n",
      "22    23        Jersey City, NJ    NJ  Mid Atlantic  40.15\n",
      "23    24              Plano, TX    TX    South West  40.13\n",
      "24    25            Fremont, CA    CA          West  39.84\n",
      "25    26             Irvine, CA    CA          West  39.47\n",
      "26    27           San Jose, CA    CA          West  39.39\n",
      "27    28         Scottsdale, AZ    AZ    South West  39.01\n",
      "28    29            Raleigh, NC    NC    South East  38.38\n",
      "29    30             Dallas, TX    TX    South West  37.95\n",
      "30    31            Houston, TX    TX    South West  37.79\n",
      "31    32        New Orleans, LA    LA    South East  37.26\n",
      "32    33              Boise, ID    ID    North West  36.79\n",
      "33    34            Anaheim, CA    CA          West  36.68\n",
      "34    35             Newark, NJ    NJ  Mid Atlantic  35.22\n",
      "35    36             Aurora, CO    CO    South West  34.96\n",
      "36    37          Baltimore, MD    MD  Mid Atlantic  34.46\n",
      "37    38            Phoenix, AZ    AZ    South West  33.83\n",
      "38    39         Sacramento, CA    CA          West  33.66\n",
      "39    40         Louisville, KY    KY      Mid West  33.35\n",
      "40    41            Lincoln, NE    NE      Mid West  33.17\n",
      "41    42          St. Louis, MO    MO      Mid West  33.13\n",
      "42    43         Fort Worth, TX    TX    South West  33.11\n",
      "43    44           St. Paul, MN    MN      Mid West  32.87\n",
      "44    45              Omaha, NE    NE      Mid West  32.57\n",
      "45    46           Chandler, AZ    AZ    South West  32.52\n",
      "46    47          Santa Ana, CA    CA          West  32.47\n",
      "47    48   Colorado Springs, CO    CO    South West  32.30\n",
      "48    49          Nashville, TN    TN    South East  32.16\n",
      "49    50        Kansas City, MO    MO      Mid West  32.08\n",
      "50    51         Cincinnati, OH    OH      Mid West  31.80\n",
      "51    52             Irving, TX    TX    South West  31.59\n",
      "52    53        San Antonio, TX    TX    South West  31.47\n",
      "53    54          Charlotte, NC    NC    South East  31.20\n",
      "54    55            Madison, WI    WI      Mid West  31.14\n",
      "55    56             Tucson, AZ    AZ    South West  31.03\n",
      "56    57            Garland, TX    TX    South West  30.43\n",
      "57    58     Virginia Beach, VA    VA  Mid Atlantic  30.39\n",
      "58    59            Gilbert, AZ    AZ    South West  30.18\n",
      "59    60      Oklahoma City, OK    OK    South West  29.91\n",
      "60    61          Anchorage, AK    AK       Pacific  29.85\n",
      "61    62          Arlington, TX    TX    South West  29.77\n",
      "62    63              Tulsa, OK    OK    South West  29.44\n",
      "63    64             Durham, NC    NC    South East  29.26\n",
      "64    65          Milwaukee, WI    WI      Mid West  29.06\n",
      "65    66               Reno, NV    NV          West  28.84\n",
      "66    67        Bakersfield, CA    CA          West  28.50\n",
      "67    68        Albuquerque, NM    NM    South West  28.27\n",
      "68    69     St. Petersburg, FL    FL    South East  27.92\n",
      "69    70            Buffalo, NY    NY  Mid Atlantic  27.85\n",
      "70    71  Lexington-Fayette, KY    KY      Mid West  27.71\n",
      "71    72        Chula Vista, CA    CA          West  27.41\n",
      "72    73          Riverside, CA    CA          West  27.32\n",
      "73    74       Indianapolis, IN    IN      Mid West  27.32\n",
      "74    75            Norfolk, VA    VA  Mid Atlantic  27.29\n",
      "75    76          Henderson, NV    NV          West  27.21\n",
      "76    77            Hialeah, FL    FL    South East  26.95\n",
      "77    78       Jacksonville, FL    FL    South East  26.93\n",
      "78    79     Corpus Christi, TX    TX    South West  26.27\n",
      "79    80               Mesa, AZ    AZ    South West  26.07\n",
      "80    81         Chesapeake, VA    VA  Mid Atlantic  25.91\n",
      "81    82            Lubbock, TX    TX    South West  25.83\n",
      "82    83         Fort Wayne, IN    IN      Mid West  24.87\n",
      "83    84          Cleveland, OH    OH      Mid West  24.62\n",
      "84    85            El Paso, TX    TX    South West  24.26\n",
      "85    86           Columbus, OH    OH      Mid West  24.16\n",
      "86    87           Glendale, AZ    AZ    South West  24.15\n",
      "87    88            Wichita, KS    KS      Mid West  23.91\n",
      "88    89        Baton Rouge, LA    LA    South East  23.84\n",
      "89    90             Fresno, CA    CA          West  23.61\n",
      "90    91    North Las Vegas, NV    NV          West  22.88\n",
      "91    92           Stockton, CA    CA          West  22.39\n",
      "92    93      Winston-Salem, NC    NC    South East  22.32\n",
      "93    94         Birmingham, AL    AL    South East  22.27\n",
      "94    95            Memphis, TN    TN    South East  22.01\n",
      "95    96     San Bernardino, CA    CA          West  20.06\n",
      "96    97            Detroit, MI    MI    South East  19.76\n",
      "97    98             Laredo, TX    TX    South West  19.02\n",
      "98    99         Greensboro, NC    NC    South East  17.25\n",
      "99   100             Toledo, OH    OH      Mid West  15.59\n"
     ]
    }
   ],
   "source": [
    "#Data is from Wallethub http://wallethub.com/edu/best-cities-for-coffee-lovers/23739/, CSV import pattern is from https://datatofish.com/import-csv-file-python-using-pandas/\n",
    "coffee_rank_df = pd.read_csv (r'Coffee_Cities_Ranking.csv')   #read the csv file (put 'r' before the path string to address any special characters in the path, such as '\\'). Don't forget to put the file name at the end of the path + \".csv\"\n",
    "print (coffee_rank_df)"
   ]
  },
  {
   "cell_type": "code",
   "execution_count": 49,
   "metadata": {},
   "outputs": [
    {
     "data": {
      "text/plain": [
       "South West      26\n",
       "West            21\n",
       "South East      18\n",
       "Mid West        18\n",
       "Mid Atlantic    11\n",
       "North West       3\n",
       "Pacific          2\n",
       "North East       1\n",
       "Name: Region, dtype: int64"
      ]
     },
     "execution_count": 49,
     "metadata": {},
     "output_type": "execute_result"
    }
   ],
   "source": [
    "#Which region has the most cities in the list of top 100 coffee cities?\n",
    "region_city_count_df=coffee_rank_df['Region'].value_counts()\n",
    "region_city_count_df"
   ]
  },
  {
   "cell_type": "markdown",
   "metadata": {},
   "source": [
    "Given the North West's reputation as a coffee lover region, it is surprising that there are only 3 cities that make the list."
   ]
  },
  {
   "cell_type": "code",
   "execution_count": 99,
   "metadata": {},
   "outputs": [
    {
     "data": {
      "image/png": "[encoded data removed]",
      "text/plain": [
       "<Figure size 1440x720 with 1 Axes>"
      ]
     },
     "metadata": {
      "needs_background": "light"
     },
     "output_type": "display_data"
    }
   ],
   "source": [
    "# Pie chart of the regional counts from example found at https://www.tutorialspoint.com/matplotlib/matplotlib_bar_plot.htm\n",
    "fig = plt.figure(figsize=(20,10))\n",
    "ax = fig.add_axes([0,0,1,1])\n",
    "\n",
    "Regions = ['South West', 'West', 'South East', 'Mid West', 'Mid Atlantic', 'North West', 'Pacific', 'North East']\n",
    "Cities = [26, 21, 18, 18, 11, 3, 2, 1]\n",
    "ax.bar(Regions,Cities)\n",
    "ax.set_ylabel('Number of Cities')\n",
    "ax.set_xlabel('Region')\n",
    "ax.set_title('Number of Coffee Loving Cities by Region')\n",
    "plt.show()"
   ]
  },
  {
   "cell_type": "code",
   "execution_count": 38,
   "metadata": {},
   "outputs": [
    {
     "data": {
      "text/html": [
       "<div>\n",
       "<style scoped>\n",
       "    .dataframe tbody tr th:only-of-type {\n",
       "        vertical-align: middle;\n",
       "    }\n",
       "\n",
       "    .dataframe tbody tr th {\n",
       "        vertical-align: top;\n",
       "    }\n",
       "\n",
       "    .dataframe thead th {\n",
       "        text-align: right;\n",
       "    }\n",
       "</style>\n",
       "<table border=\"1\" class=\"dataframe\">\n",
       "  <thead>\n",
       "    <tr style=\"text-align: right;\">\n",
       "      <th></th>\n",
       "      <th>Rank</th>\n",
       "      <th>Score</th>\n",
       "    </tr>\n",
       "    <tr>\n",
       "      <th>Region</th>\n",
       "      <th></th>\n",
       "      <th></th>\n",
       "    </tr>\n",
       "  </thead>\n",
       "  <tbody>\n",
       "    <tr>\n",
       "      <th>North West</th>\n",
       "      <td>12.666667</td>\n",
       "      <td>57.036667</td>\n",
       "    </tr>\n",
       "    <tr>\n",
       "      <th>North East</th>\n",
       "      <td>10.000000</td>\n",
       "      <td>48.610000</td>\n",
       "    </tr>\n",
       "    <tr>\n",
       "      <th>Mid Atlantic</th>\n",
       "      <td>38.000000</td>\n",
       "      <td>39.505455</td>\n",
       "    </tr>\n",
       "    <tr>\n",
       "      <th>West</th>\n",
       "      <td>47.142857</td>\n",
       "      <td>36.243810</td>\n",
       "    </tr>\n",
       "    <tr>\n",
       "      <th>Pacific</th>\n",
       "      <td>41.500000</td>\n",
       "      <td>36.195000</td>\n",
       "    </tr>\n",
       "    <tr>\n",
       "      <th>South West</th>\n",
       "      <td>53.769231</td>\n",
       "      <td>31.932308</td>\n",
       "    </tr>\n",
       "    <tr>\n",
       "      <th>South East</th>\n",
       "      <td>59.555556</td>\n",
       "      <td>31.591667</td>\n",
       "    </tr>\n",
       "    <tr>\n",
       "      <th>Mid West</th>\n",
       "      <td>57.833333</td>\n",
       "      <td>31.074444</td>\n",
       "    </tr>\n",
       "  </tbody>\n",
       "</table>\n",
       "</div>"
      ],
      "text/plain": [
       "                   Rank      Score\n",
       "Region                            \n",
       "North West    12.666667  57.036667\n",
       "North East    10.000000  48.610000\n",
       "Mid Atlantic  38.000000  39.505455\n",
       "West          47.142857  36.243810\n",
       "Pacific       41.500000  36.195000\n",
       "South West    53.769231  31.932308\n",
       "South East    59.555556  31.591667\n",
       "Mid West      57.833333  31.074444"
      ]
     },
     "execution_count": 38,
     "metadata": {},
     "output_type": "execute_result"
    }
   ],
   "source": [
    "#Find the average score by region.\n",
    "av_rank_score_by_region_df=coffee_rank_df.groupby('Region').mean().sort_values(by='Score', ascending=False)\n",
    "av_rank_score_by_region_df"
   ]
  },
  {
   "cell_type": "markdown",
   "metadata": {},
   "source": [
    "Given how few cities from the North West were included on the list (3), the average score of 57.036667 shows that the North West deserves it reputation for loving coffee.  The lack of more cities on the list could indicate that the North West region could support more growth in other cities in the region."
   ]
  },
  {
   "cell_type": "code",
   "execution_count": 41,
   "metadata": {},
   "outputs": [
    {
     "data": {
      "image/png": "[encoded data removed]",
      "text/plain": [
       "<Figure size 1440x720 with 1 Axes>"
      ]
     },
     "metadata": {
      "needs_background": "light"
     },
     "output_type": "display_data"
    }
   ],
   "source": [
    "#box plot of the average city score by region.  \n",
    "#Boxplot pattern found here: https://www.pythonprogramming.in/boxplot-group-by-column-data.html\n",
    "#Figsize example found at https://www.drawingfromdata.com/setting-figure-size-using-seaborn-and-matplotlib\n",
    "coffee_rank_df.boxplot(column=['Score'], by=['Region'], figsize=(20,10))\n",
    "plt.show()"
   ]
  },
  {
   "cell_type": "markdown",
   "metadata": {},
   "source": [
    "This box plot of the city scores by region paints a clear picture that the cities in the North West are at the top of the heap."
   ]
  },
  {
   "cell_type": "markdown",
   "metadata": {},
   "source": [
    "## Data - Get Lat Long and Population information for the cities"
   ]
  },
  {
   "cell_type": "markdown",
   "metadata": {},
   "source": [
    "### Getting the the latitude and longitude is by scraping the information from the Wikipedia page for the city."
   ]
  },
  {
   "cell_type": "markdown",
   "metadata": {},
   "source": [
    "I initially tried to get the lat long data by scraping the Wikipedia page for the cities."
   ]
  },
  {
   "cell_type": "code",
   "execution_count": 56,
   "metadata": {},
   "outputs": [],
   "source": [
    "#import Vancouver, WA Wikipedia page into a format that can be searched with BeautifulSoup\n",
    "import urllib.request\n",
    "vancouver_url = \"https://en.wikipedia.org/wiki/Vancouver%2C_Washington\"\n",
    "vancouver_page = urllib.request.urlopen(vancouver_url)\n",
    "from bs4 import BeautifulSoup\n",
    "v_soup = BeautifulSoup(vancouver_page, \"lxml\")\n",
    "#print(v_soup.prettify()) #uncomment to view screen scrapped html"
   ]
  },
  {
   "cell_type": "code",
   "execution_count": 51,
   "metadata": {},
   "outputs": [
    {
     "data": {
      "text/plain": [
       "<span class=\"latitude\">45°38′N</span>"
      ]
     },
     "execution_count": 51,
     "metadata": {},
     "output_type": "execute_result"
    }
   ],
   "source": [
    "#finds the first occurence of the latitude class.\n",
    "vancouver_lat= v_soup.find('span', attrs={\"class\":\"latitude\"})\n",
    "vancouver_lat"
   ]
  },
  {
   "cell_type": "code",
   "execution_count": 6,
   "metadata": {},
   "outputs": [
    {
     "data": {
      "text/plain": [
       "<span class=\"longitude\">122°36′W</span>"
      ]
     },
     "execution_count": 6,
     "metadata": {},
     "output_type": "execute_result"
    }
   ],
   "source": [
    "#finds the first occurence of the longitude class.\n",
    "vancouver_long= v_soup.find('span', attrs={\"class\":\"longitude\"})\n",
    "vancouver_long"
   ]
  },
  {
   "cell_type": "code",
   "execution_count": 8,
   "metadata": {},
   "outputs": [],
   "source": [
    "#import Vancouver, WA Wikipedia page into a format that can be searched with BeautifulSoup\n",
    "import urllib.request\n",
    "bellingham_url = \"https://en.wikipedia.org/wiki/Bellingham,_Washington\"\n",
    "bellingham_page = urllib.request.urlopen(bellingham_url)\n",
    "from bs4 import BeautifulSoup\n",
    "b_soup = BeautifulSoup(bellingham_page, \"lxml\")\n",
    "#print(b_soup.prettify()) #uncomment to view screen scrapped html"
   ]
  },
  {
   "cell_type": "code",
   "execution_count": 9,
   "metadata": {},
   "outputs": [
    {
     "data": {
      "text/plain": [
       "<span class=\"latitude\">48°45′1″N</span>"
      ]
     },
     "execution_count": 9,
     "metadata": {},
     "output_type": "execute_result"
    }
   ],
   "source": [
    "#finds the first occurence of the latitude class.\n",
    "bellingham_lat= b_soup.find('span', attrs={\"class\":\"latitude\"})\n",
    "bellingham_lat"
   ]
  },
  {
   "cell_type": "code",
   "execution_count": 10,
   "metadata": {},
   "outputs": [
    {
     "data": {
      "text/plain": [
       "<span class=\"longitude\">122°28′30″W</span>"
      ]
     },
     "execution_count": 10,
     "metadata": {},
     "output_type": "execute_result"
    }
   ],
   "source": [
    "#finds the first occurence of the longitude class.\n",
    "bellingham_long= b_soup.find('span', attrs={\"class\":\"longitude\"})\n",
    "bellingham_long"
   ]
  },
  {
   "cell_type": "code",
   "execution_count": 11,
   "metadata": {},
   "outputs": [
    {
     "data": {
      "text/html": [
       "<div>\n",
       "<style scoped>\n",
       "    .dataframe tbody tr th:only-of-type {\n",
       "        vertical-align: middle;\n",
       "    }\n",
       "\n",
       "    .dataframe tbody tr th {\n",
       "        vertical-align: top;\n",
       "    }\n",
       "\n",
       "    .dataframe thead th {\n",
       "        text-align: right;\n",
       "    }\n",
       "</style>\n",
       "<table border=\"1\" class=\"dataframe\">\n",
       "  <thead>\n",
       "    <tr style=\"text-align: right;\">\n",
       "      <th></th>\n",
       "      <th>City</th>\n",
       "      <th>Latitude</th>\n",
       "      <th>Longitude</th>\n",
       "    </tr>\n",
       "  </thead>\n",
       "  <tbody>\n",
       "    <tr>\n",
       "      <th>0</th>\n",
       "      <td>Vancover</td>\n",
       "      <td>[45°38′N]</td>\n",
       "      <td>[122°36′W]</td>\n",
       "    </tr>\n",
       "    <tr>\n",
       "      <th>1</th>\n",
       "      <td>Bellingham</td>\n",
       "      <td>[48°45′1″N]</td>\n",
       "      <td>[122°28′30″W]</td>\n",
       "    </tr>\n",
       "  </tbody>\n",
       "</table>\n",
       "</div>"
      ],
      "text/plain": [
       "         City     Latitude      Longitude\n",
       "0    Vancover    [45°38′N]     [122°36′W]\n",
       "1  Bellingham  [48°45′1″N]  [122°28′30″W]"
      ]
     },
     "execution_count": 11,
     "metadata": {},
     "output_type": "execute_result"
    }
   ],
   "source": [
    "#writes lat long values to a df.\n",
    "lat_long_df = pd.DataFrame({'City':['Vancover','Bellingham'],'Latitude': [vancouver_lat, bellingham_lat], 'Longitude': [vancouver_long, bellingham_long]})\n",
    "lat_long_df"
   ]
  },
  {
   "cell_type": "code",
   "execution_count": 12,
   "metadata": {},
   "outputs": [
    {
     "data": {
      "text/html": [
       "<div>\n",
       "<style scoped>\n",
       "    .dataframe tbody tr th:only-of-type {\n",
       "        vertical-align: middle;\n",
       "    }\n",
       "\n",
       "    .dataframe tbody tr th {\n",
       "        vertical-align: top;\n",
       "    }\n",
       "\n",
       "    .dataframe thead th {\n",
       "        text-align: right;\n",
       "    }\n",
       "</style>\n",
       "<table border=\"1\" class=\"dataframe\">\n",
       "  <thead>\n",
       "    <tr style=\"text-align: right;\">\n",
       "      <th></th>\n",
       "      <th>City</th>\n",
       "      <th>Latitude</th>\n",
       "      <th>Longitude</th>\n",
       "    </tr>\n",
       "  </thead>\n",
       "  <tbody>\n",
       "    <tr>\n",
       "      <th>0</th>\n",
       "      <td>Vancover</td>\n",
       "      <td>45°38′N</td>\n",
       "      <td>122°36′W</td>\n",
       "    </tr>\n",
       "    <tr>\n",
       "      <th>1</th>\n",
       "      <td>Bellingham</td>\n",
       "      <td>48°45′1″N</td>\n",
       "      <td>122°28′30″W</td>\n",
       "    </tr>\n",
       "  </tbody>\n",
       "</table>\n",
       "</div>"
      ],
      "text/plain": [
       "         City   Latitude    Longitude\n",
       "0    Vancover    45°38′N     122°36′W\n",
       "1  Bellingham  48°45′1″N  122°28′30″W"
      ]
     },
     "execution_count": 12,
     "metadata": {},
     "output_type": "execute_result"
    }
   ],
   "source": [
    "#removing brackets from lat long values\n",
    "b_lat = str(bellingham_lat)[23:-7] \n",
    "b_long = str(bellingham_long)[24:-7] \n",
    "v_lat = str(vancouver_lat)[23:-7] \n",
    "v_long = str(vancouver_long)[24:-7] \n",
    "\n",
    "new_lat_long_df = pd.DataFrame({'City':['Vancover','Bellingham'],'Latitude': [v_lat, b_lat], 'Longitude': [v_long, b_long]})\n",
    "new_lat_long_df"
   ]
  },
  {
   "cell_type": "markdown",
   "metadata": {},
   "source": [
    "These are the right coordinates, but they are not in the correct format for using with Foursquare data."
   ]
  },
  {
   "cell_type": "markdown",
   "metadata": {},
   "source": [
    "### Another way that we can find the latitude and longitude of a city is with geolocator."
   ]
  },
  {
   "cell_type": "code",
   "execution_count": 75,
   "metadata": {},
   "outputs": [
    {
     "name": "stdout",
     "output_type": "stream",
     "text": [
      "The geograpical coordinate of Vancouver, WA are 45.6306954, -122.6744557.\n"
     ]
    }
   ],
   "source": [
    "#finding the lat long of Vancouver, WA\n",
    "address = 'Vancouver, WA'\n",
    "\n",
    "geolocator = Nominatim(user_agent=\"vancouver_explorer\")\n",
    "location = geolocator.geocode(address)\n",
    "v_latitude = location.latitude\n",
    "v_longitude = location.longitude\n",
    "print('The geograpical coordinate of Vancouver, WA are {}, {}.'.format(v_latitude, v_longitude))"
   ]
  },
  {
   "cell_type": "code",
   "execution_count": 76,
   "metadata": {},
   "outputs": [
    {
     "name": "stdout",
     "output_type": "stream",
     "text": [
      "The geograpical coordinate of Bellingham, WA are 48.7544012, -122.4788361.\n"
     ]
    }
   ],
   "source": [
    "#finding the lat long of Bellingham, WA\n",
    "address = 'Bellingham, WA'\n",
    "\n",
    "geolocator = Nominatim(user_agent=\"bellingham_explorer\")\n",
    "location = geolocator.geocode(address)\n",
    "b_latitude = location.latitude\n",
    "b_longitude = location.longitude\n",
    "print('The geograpical coordinate of Bellingham, WA are {}, {}.'.format(b_latitude, b_longitude))"
   ]
  },
  {
   "cell_type": "markdown",
   "metadata": {},
   "source": [
    "### We can use the folium library to create a map using the latitude and longitude in order to make sure they are for the right city."
   ]
  },
  {
   "cell_type": "code",
   "execution_count": 77,
   "metadata": {},
   "outputs": [
    {
     "data": {
      "text/html": [
       "<div style=\"width:100%;\"><div style=\"position:relative;width:100%;height:0;padding-bottom:60%;\"><iframe src=\"about:blank\" style=\"position:absolute;width:100%;height:100%;left:0;top:0;border:none !important;\" data-html=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 onload=\"this.contentDocument.open();this.contentDocument.write(atob(this.getAttribute('data-html')));this.contentDocument.close();\" allowfullscreen webkitallowfullscreen mozallowfullscreen></iframe></div></div>"
      ],
      "text/plain": [
       "<folium.folium.Map at 0x7f35898ab4a8>"
      ]
     },
     "execution_count": 77,
     "metadata": {},
     "output_type": "execute_result"
    }
   ],
   "source": [
    "# create map of Vancouver, WA using latitude and longitude values\n",
    "map_vancouver = folium.Map(location=[v_latitude, v_longitude], zoom_start=12) \n",
    "map_vancouver"
   ]
  },
  {
   "cell_type": "code",
   "execution_count": 78,
   "metadata": {},
   "outputs": [
    {
     "data": {
      "text/html": [
       "<div style=\"width:100%;\"><div style=\"position:relative;width:100%;height:0;padding-bottom:60%;\"><iframe src=\"about:blank\" style=\"position:absolute;width:100%;height:100%;left:0;top:0;border:none !important;\" data-html=PCFET0NUWVBFIGh0bWw+CjxoZWFkPiAgICAKICAgIDxtZXRhIGh0dHAtZXF1aXY9ImNvbnRlbnQtdHlwZSIgY29udGVudD0idGV4dC9odG1sOyBjaGFyc2V0PVVURi04IiAvPgogICAgPHNjcmlwdD5MX1BSRUZFUl9DQU5WQVMgPSBmYWxzZTsgTF9OT19UT1VDSCA9IGZhbHNlOyBMX0RJU0FCTEVfM0QgPSBmYWxzZTs8L3NjcmlwdD4KICAgIDxzY3JpcHQgc3JjPSJodHRwczovL2Nkbi5qc2RlbGl2ci5uZXQvbnBtL2xlYWZsZXRAMS4yLjAvZGlzdC9sZWFmbGV0LmpzIj48L3NjcmlwdD4KICAgIDxzY3JpcHQgc3JjPSJodHRwczovL2FqYXguZ29vZ2xlYXBpcy5jb20vYWpheC9saWJzL2pxdWVyeS8xLjExLjEvanF1ZXJ5Lm1pbi5qcyI+PC9zY3JpcHQ+CiAgICA8c2NyaXB0IHNyYz0iaHR0cHM6Ly9tYXhjZG4uYm9vdHN0cmFwY2RuLmNvbS9ib290c3RyYXAvMy4yLjAvanMvYm9vdHN0cmFwLm1pbi5qcyI+PC9zY3JpcHQ+CiAgICA8c2NyaXB0IHNyYz0iaHR0cHM6Ly9jZG5qcy5jbG91ZGZsYXJlLmNvbS9hamF4L2xpYnMvTGVhZmxldC5hd2Vzb21lLW1hcmtlcnMvMi4wLjIvbGVhZmxldC5hd2Vzb21lLW1hcmtlcnMuanMiPjwvc2NyaXB0PgogICAgPGxpbmsgcmVsPSJzdHlsZXNoZWV0IiBocmVmPSJodHRwczovL2Nkbi5qc2RlbGl2ci5uZXQvbnBtL2xlYWZsZXRAMS4yLjAvZGlzdC9sZWFmbGV0LmNzcyIvPgogICAgPGxpbmsgcmVsPSJzdHlsZXNoZWV0IiBocmVmPSJodHRwczovL21heGNkbi5ib290c3RyYXBjZG4uY29tL2Jvb3RzdHJhcC8zLjIuMC9jc3MvYm9vdHN0cmFwLm1pbi5jc3MiLz4KICAgIDxsaW5rIHJlbD0ic3R5bGVzaGVldCIgaHJlZj0iaHR0cHM6Ly9tYXhjZG4uYm9vdHN0cmFwY2RuLmNvbS9ib290c3RyYXAvMy4yLjAvY3NzL2Jvb3RzdHJhcC10aGVtZS5taW4uY3NzIi8+CiAgICA8bGluayByZWw9InN0eWxlc2hlZXQiIGhyZWY9Imh0dHBzOi8vbWF4Y2RuLmJvb3RzdHJhcGNkbi5jb20vZm9udC1hd2Vzb21lLzQuNi4zL2Nzcy9mb250LWF3ZXNvbWUubWluLmNzcyIvPgogICAgPGxpbmsgcmVsPSJzdHlsZXNoZWV0IiBocmVmPSJodHRwczovL2NkbmpzLmNsb3VkZmxhcmUuY29tL2FqYXgvbGlicy9MZWFmbGV0LmF3ZXNvbWUtbWFya2Vycy8yLjAuMi9sZWFmbGV0LmF3ZXNvbWUtbWFya2Vycy5jc3MiLz4KICAgIDxsaW5rIHJlbD0ic3R5bGVzaGVldCIgaHJlZj0iaHR0cHM6Ly9yYXdnaXQuY29tL3B5dGhvbi12aXN1YWxpemF0aW9uL2ZvbGl1bS9tYXN0ZXIvZm9saXVtL3RlbXBsYXRlcy9sZWFmbGV0LmF3ZXNvbWUucm90YXRlLmNzcyIvPgogICAgPHN0eWxlPmh0bWwsIGJvZHkge3dpZHRoOiAxMDAlO2hlaWdodDogMTAwJTttYXJnaW46IDA7cGFkZGluZzogMDt9PC9zdHlsZT4KICAgIDxzdHlsZT4jbWFwIHtwb3NpdGlvbjphYnNvbHV0ZTt0b3A6MDtib3R0b206MDtyaWdodDowO2xlZnQ6MDt9PC9zdHlsZT4KICAgIAogICAgICAgICAgICA8c3R5bGU+ICNtYXBfNjlhOGNjNjRmZTE2NDFmZWE0YTIxNDhmYWJlOTVhM2IgewogICAgICAgICAgICAgICAgcG9zaXRpb24gOiByZWxhdGl2ZTsKICAgICAgICAgICAgICAgIHdpZHRoIDogMTAwLjAlOwogICAgICAgICAgICAgICAgaGVpZ2h0OiAxMDAuMCU7CiAgICAgICAgICAgICAgICBsZWZ0OiAwLjAlOwogICAgICAgICAgICAgICAgdG9wOiAwLjAlOwogICAgICAgICAgICAgICAgfQogICAgICAgICAgICA8L3N0eWxlPgogICAgICAgIAo8L2hlYWQ+Cjxib2R5PiAgICAKICAgIAogICAgICAgICAgICA8ZGl2IGNsYXNzPSJmb2xpdW0tbWFwIiBpZD0ibWFwXzY5YThjYzY0ZmUxNjQxZmVhNGEyMTQ4ZmFiZTk1YTNiIiA+PC9kaXY+CiAgICAgICAgCjwvYm9keT4KPHNjcmlwdD4gICAgCiAgICAKCiAgICAgICAgICAgIAogICAgICAgICAgICAgICAgdmFyIGJvdW5kcyA9IG51bGw7CiAgICAgICAgICAgIAoKICAgICAgICAgICAgdmFyIG1hcF82OWE4Y2M2NGZlMTY0MWZlYTRhMjE0OGZhYmU5NWEzYiA9IEwubWFwKAogICAgICAgICAgICAgICAgICAgICAgICAgICAgICAgICAgJ21hcF82OWE4Y2M2NGZlMTY0MWZlYTRhMjE0OGZhYmU5NWEzYicsCiAgICAgICAgICAgICAgICAgICAgICAgICAgICAgICAgICB7Y2VudGVyOiBbNDguNzU0NDAxMiwtMTIyLjQ3ODgzNjFdLAogICAgICAgICAgICAgICAgICAgICAgICAgICAgICAgICAgem9vbTogMTIsCiAgICAgICAgICAgICAgICAgICAgICAgICAgICAgICAgICBtYXhCb3VuZHM6IGJvdW5kcywKICAgICAgICAgICAgICAgICAgICAgICAgICAgICAgICAgIGxheWVyczogW10sCiAgICAgICAgICAgICAgICAgICAgICAgICAgICAgICAgICB3b3JsZENvcHlKdW1wOiBmYWxzZSwKICAgICAgICAgICAgICAgICAgICAgICAgICAgICAgICAgIGNyczogTC5DUlMuRVBTRzM4NTcKICAgICAgICAgICAgICAgICAgICAgICAgICAgICAgICAgfSk7CiAgICAgICAgICAgIAogICAgICAgIAogICAgCiAgICAgICAgICAgIHZhciB0aWxlX2xheWVyXzlkOWNlZjc2ZDc0YTQ0NDliMjlhMTlmY2U0YmE5ZjE0ID0gTC50aWxlTGF5ZXIoCiAgICAgICAgICAgICAgICAnaHR0cHM6Ly97c30udGlsZS5vcGVuc3RyZWV0bWFwLm9yZy97en0ve3h9L3t5fS5wbmcnLAogICAgICAgICAgICAgICAgewogICJhdHRyaWJ1dGlvbiI6IG51bGwsCiAgImRldGVjdFJldGluYSI6IGZhbHNlLAogICJtYXhab29tIjogMTgsCiAgIm1pblpvb20iOiAxLAogICJub1dyYXAiOiBmYWxzZSwKICAic3ViZG9tYWlucyI6ICJhYmMiCn0KICAgICAgICAgICAgICAgICkuYWRkVG8obWFwXzY5YThjYzY0ZmUxNjQxZmVhNGEyMTQ4ZmFiZTk1YTNiKTsKICAgICAgICAKPC9zY3JpcHQ+ onload=\"this.contentDocument.open();this.contentDocument.write(atob(this.getAttribute('data-html')));this.contentDocument.close();\" allowfullscreen webkitallowfullscreen mozallowfullscreen></iframe></div></div>"
      ],
      "text/plain": [
       "<folium.folium.Map at 0x7f3581902f28>"
      ]
     },
     "execution_count": 78,
     "metadata": {},
     "output_type": "execute_result"
    }
   ],
   "source": [
    "# create map of Bellingham, WA using latitude and longitude values\n",
    "map_bellingham = folium.Map(location=[b_latitude, b_longitude], zoom_start=12) \n",
    "map_bellingham"
   ]
  },
  {
   "cell_type": "markdown",
   "metadata": {},
   "source": [
    "The maps verified that we have the correct coordinates."
   ]
  },
  {
   "cell_type": "markdown",
   "metadata": {},
   "source": [
    "## Getting Vancouver, WA Coffee Shops"
   ]
  },
  {
   "cell_type": "markdown",
   "metadata": {},
   "source": [
    "Now that I have the coordinates for the cities that I am interested in, I can use Foursquare to retrieve a list of coffee shops in those cities."
   ]
  },
  {
   "cell_type": "code",
   "execution_count": 80,
   "metadata": {},
   "outputs": [],
   "source": [
    "#Foursquare requires a Client ID and a Client Secret to access their venue data.  I removed my Client ID and Client Secret after creating this report for security reasons.\n",
    "CLIENT_ID = 'S2HKIY0I0AZ20OL4M0MU3105W2LUBPHQOHP3R0CIPCVTXNSK' # my Foursquare ID\n",
    "CLIENT_SECRET = 'NPKIMKVQZ4OGTW1VIIKBX4I3RQ4CLRG3FV41DKDBGZX0GQWB' # my Foursquare Secret\n",
    "VERSION = '20180605' # Foursquare API version"
   ]
  },
  {
   "cell_type": "code",
   "execution_count": 81,
   "metadata": {},
   "outputs": [
    {
     "data": {
      "text/plain": [
       "'https://api.foursquare.com/v2/venues/explore?&client_id=S2HKIY0I0AZ20OL4M0MU3105W2LUBPHQOHP3R0CIPCVTXNSK&client_secret=NPKIMKVQZ4OGTW1VIIKBX4I3RQ4CLRG3FV41DKDBGZX0GQWB&v=20180605&ll=45.6306954,-122.6744557&radius=1000&limit=500'"
      ]
     },
     "execution_count": 81,
     "metadata": {},
     "output_type": "execute_result"
    }
   ],
   "source": [
    "#Getting the top 500 venues for Vancouver, WA\n",
    "LIMIT = 500 # limit of number of venues returned by Foursquare API\n",
    "radius = 1000 # define radius\n",
    "\n",
    "# create URL\n",
    "v_url = 'https://api.foursquare.com/v2/venues/explore?&client_id={}&client_secret={}&v={}&ll={},{}&radius={}&limit={}'.format(\n",
    "    CLIENT_ID, \n",
    "    CLIENT_SECRET, \n",
    "    VERSION, \n",
    "    v_latitude, \n",
    "    v_longitude, \n",
    "    radius, \n",
    "    LIMIT)\n",
    "v_url # display URL"
   ]
  },
  {
   "cell_type": "code",
   "execution_count": 82,
   "metadata": {},
   "outputs": [],
   "source": [
    "#getting the Vancouver WA venue json file\n",
    "v_results = requests.get(v_url).json()\n",
    "#v_results #uncomment this if you want to view the json file."
   ]
  },
  {
   "cell_type": "code",
   "execution_count": 84,
   "metadata": {},
   "outputs": [],
   "source": [
    "# function that extracts the category of the venue\n",
    "def get_category_type(row):\n",
    "    try:\n",
    "        categories_list = row['categories']\n",
    "    except:\n",
    "        categories_list = row['venue.categories']\n",
    "        \n",
    "    if len(categories_list) == 0:\n",
    "        return None\n",
    "    else:\n",
    "        return categories_list[0]['name']"
   ]
  },
  {
   "cell_type": "code",
   "execution_count": 85,
   "metadata": {},
   "outputs": [
    {
     "data": {
      "text/html": [
       "<div>\n",
       "<style scoped>\n",
       "    .dataframe tbody tr th:only-of-type {\n",
       "        vertical-align: middle;\n",
       "    }\n",
       "\n",
       "    .dataframe tbody tr th {\n",
       "        vertical-align: top;\n",
       "    }\n",
       "\n",
       "    .dataframe thead th {\n",
       "        text-align: right;\n",
       "    }\n",
       "</style>\n",
       "<table border=\"1\" class=\"dataframe\">\n",
       "  <thead>\n",
       "    <tr style=\"text-align: right;\">\n",
       "      <th></th>\n",
       "      <th>name</th>\n",
       "      <th>categories</th>\n",
       "      <th>lat</th>\n",
       "      <th>lng</th>\n",
       "    </tr>\n",
       "  </thead>\n",
       "  <tbody>\n",
       "    <tr>\n",
       "      <th>0</th>\n",
       "      <td>Treat</td>\n",
       "      <td>Cupcake Shop</td>\n",
       "      <td>45.628998</td>\n",
       "      <td>-122.673591</td>\n",
       "    </tr>\n",
       "    <tr>\n",
       "      <th>1</th>\n",
       "      <td>Java House</td>\n",
       "      <td>Coffee Shop</td>\n",
       "      <td>45.628922</td>\n",
       "      <td>-122.673578</td>\n",
       "    </tr>\n",
       "    <tr>\n",
       "      <th>2</th>\n",
       "      <td>Kiggins Theatre</td>\n",
       "      <td>Movie Theater</td>\n",
       "      <td>45.629210</td>\n",
       "      <td>-122.671433</td>\n",
       "    </tr>\n",
       "    <tr>\n",
       "      <th>3</th>\n",
       "      <td>Thai Orchid</td>\n",
       "      <td>Thai Restaurant</td>\n",
       "      <td>45.629265</td>\n",
       "      <td>-122.673397</td>\n",
       "    </tr>\n",
       "    <tr>\n",
       "      <th>4</th>\n",
       "      <td>Compass Coffee</td>\n",
       "      <td>Financial or Legal Service</td>\n",
       "      <td>45.627938</td>\n",
       "      <td>-122.672554</td>\n",
       "    </tr>\n",
       "  </tbody>\n",
       "</table>\n",
       "</div>"
      ],
      "text/plain": [
       "              name                  categories        lat         lng\n",
       "0            Treat                Cupcake Shop  45.628998 -122.673591\n",
       "1       Java House                 Coffee Shop  45.628922 -122.673578\n",
       "2  Kiggins Theatre               Movie Theater  45.629210 -122.671433\n",
       "3      Thai Orchid             Thai Restaurant  45.629265 -122.673397\n",
       "4   Compass Coffee  Financial or Legal Service  45.627938 -122.672554"
      ]
     },
     "execution_count": 85,
     "metadata": {},
     "output_type": "execute_result"
    }
   ],
   "source": [
    "#getting the venue names, categories, and lat long from the json file.\n",
    "\n",
    "vancouver_venues = v_results['response']['groups'][0]['items']\n",
    "    \n",
    "vancouver_venues = pd.json_normalize(vancouver_venues) # flatten JSON\n",
    "\n",
    "# filter columns\n",
    "filtered_columns = ['venue.name', 'venue.categories','venue.location.lat', 'venue.location.lng']\n",
    "vancouver_venues =vancouver_venues.loc[:, filtered_columns]\n",
    "\n",
    "# filter the category for each row\n",
    "vancouver_venues['venue.categories'] = vancouver_venues.apply(get_category_type, axis=1)\n",
    "\n",
    "# clean columns\n",
    "vancouver_venues.columns = [col.split(\".\")[-1] for col in vancouver_venues.columns]\n",
    "\n",
    "vancouver_venues.head()"
   ]
  },
  {
   "cell_type": "code",
   "execution_count": 86,
   "metadata": {},
   "outputs": [
    {
     "data": {
      "text/html": [
       "<div>\n",
       "<style scoped>\n",
       "    .dataframe tbody tr th:only-of-type {\n",
       "        vertical-align: middle;\n",
       "    }\n",
       "\n",
       "    .dataframe tbody tr th {\n",
       "        vertical-align: top;\n",
       "    }\n",
       "\n",
       "    .dataframe thead th {\n",
       "        text-align: right;\n",
       "    }\n",
       "</style>\n",
       "<table border=\"1\" class=\"dataframe\">\n",
       "  <thead>\n",
       "    <tr style=\"text-align: right;\">\n",
       "      <th></th>\n",
       "      <th>name</th>\n",
       "      <th>categories</th>\n",
       "      <th>lat</th>\n",
       "      <th>lng</th>\n",
       "    </tr>\n",
       "  </thead>\n",
       "  <tbody>\n",
       "    <tr>\n",
       "      <th>1</th>\n",
       "      <td>Java House</td>\n",
       "      <td>Coffee Shop</td>\n",
       "      <td>45.628922</td>\n",
       "      <td>-122.673578</td>\n",
       "    </tr>\n",
       "    <tr>\n",
       "      <th>8</th>\n",
       "      <td>Compass Coffee</td>\n",
       "      <td>Coffee Shop</td>\n",
       "      <td>45.631346</td>\n",
       "      <td>-122.671669</td>\n",
       "    </tr>\n",
       "    <tr>\n",
       "      <th>31</th>\n",
       "      <td>Relevant Coffee</td>\n",
       "      <td>Coffee Shop</td>\n",
       "      <td>45.634258</td>\n",
       "      <td>-122.671342</td>\n",
       "    </tr>\n",
       "    <tr>\n",
       "      <th>38</th>\n",
       "      <td>Black Rock Coffee Bar</td>\n",
       "      <td>Coffee Shop</td>\n",
       "      <td>45.628872</td>\n",
       "      <td>-122.670197</td>\n",
       "    </tr>\n",
       "    <tr>\n",
       "      <th>48</th>\n",
       "      <td>Mon Ami</td>\n",
       "      <td>Coffee Shop</td>\n",
       "      <td>45.635922</td>\n",
       "      <td>-122.671667</td>\n",
       "    </tr>\n",
       "    <tr>\n",
       "      <th>59</th>\n",
       "      <td>Starbucks</td>\n",
       "      <td>Coffee Shop</td>\n",
       "      <td>45.627355</td>\n",
       "      <td>-122.674356</td>\n",
       "    </tr>\n",
       "    <tr>\n",
       "      <th>61</th>\n",
       "      <td>Starbucks</td>\n",
       "      <td>Coffee Shop</td>\n",
       "      <td>45.639399</td>\n",
       "      <td>-122.671596</td>\n",
       "    </tr>\n",
       "  </tbody>\n",
       "</table>\n",
       "</div>"
      ],
      "text/plain": [
       "                     name   categories        lat         lng\n",
       "1              Java House  Coffee Shop  45.628922 -122.673578\n",
       "8          Compass Coffee  Coffee Shop  45.631346 -122.671669\n",
       "31        Relevant Coffee  Coffee Shop  45.634258 -122.671342\n",
       "38  Black Rock Coffee Bar  Coffee Shop  45.628872 -122.670197\n",
       "48                Mon Ami  Coffee Shop  45.635922 -122.671667\n",
       "59              Starbucks  Coffee Shop  45.627355 -122.674356\n",
       "61              Starbucks  Coffee Shop  45.639399 -122.671596"
      ]
     },
     "execution_count": 86,
     "metadata": {},
     "output_type": "execute_result"
    }
   ],
   "source": [
    "#Removing all venues that are not Coffee Shops\n",
    "vancouver_coffee_venues = vancouver_venues.loc[vancouver_venues['categories'] == 'Coffee Shop']\n",
    "vancouver_coffee_venues"
   ]
  },
  {
   "cell_type": "code",
   "execution_count": 87,
   "metadata": {},
   "outputs": [
    {
     "data": {
      "text/html": [
       "<div>\n",
       "<style scoped>\n",
       "    .dataframe tbody tr th:only-of-type {\n",
       "        vertical-align: middle;\n",
       "    }\n",
       "\n",
       "    .dataframe tbody tr th {\n",
       "        vertical-align: top;\n",
       "    }\n",
       "\n",
       "    .dataframe thead th {\n",
       "        text-align: right;\n",
       "    }\n",
       "</style>\n",
       "<table border=\"1\" class=\"dataframe\">\n",
       "  <thead>\n",
       "    <tr style=\"text-align: right;\">\n",
       "      <th></th>\n",
       "      <th>name</th>\n",
       "      <th>categories</th>\n",
       "      <th>lat</th>\n",
       "      <th>lng</th>\n",
       "    </tr>\n",
       "  </thead>\n",
       "  <tbody>\n",
       "    <tr>\n",
       "      <th>0</th>\n",
       "      <td>Java House</td>\n",
       "      <td>Coffee Shop</td>\n",
       "      <td>45.628922</td>\n",
       "      <td>-122.673578</td>\n",
       "    </tr>\n",
       "    <tr>\n",
       "      <th>1</th>\n",
       "      <td>Compass Coffee</td>\n",
       "      <td>Coffee Shop</td>\n",
       "      <td>45.631346</td>\n",
       "      <td>-122.671669</td>\n",
       "    </tr>\n",
       "    <tr>\n",
       "      <th>2</th>\n",
       "      <td>Relevant Coffee</td>\n",
       "      <td>Coffee Shop</td>\n",
       "      <td>45.634258</td>\n",
       "      <td>-122.671342</td>\n",
       "    </tr>\n",
       "    <tr>\n",
       "      <th>3</th>\n",
       "      <td>Black Rock Coffee Bar</td>\n",
       "      <td>Coffee Shop</td>\n",
       "      <td>45.628872</td>\n",
       "      <td>-122.670197</td>\n",
       "    </tr>\n",
       "    <tr>\n",
       "      <th>4</th>\n",
       "      <td>Mon Ami</td>\n",
       "      <td>Coffee Shop</td>\n",
       "      <td>45.635922</td>\n",
       "      <td>-122.671667</td>\n",
       "    </tr>\n",
       "    <tr>\n",
       "      <th>5</th>\n",
       "      <td>Starbucks</td>\n",
       "      <td>Coffee Shop</td>\n",
       "      <td>45.627355</td>\n",
       "      <td>-122.674356</td>\n",
       "    </tr>\n",
       "    <tr>\n",
       "      <th>6</th>\n",
       "      <td>Starbucks</td>\n",
       "      <td>Coffee Shop</td>\n",
       "      <td>45.639399</td>\n",
       "      <td>-122.671596</td>\n",
       "    </tr>\n",
       "  </tbody>\n",
       "</table>\n",
       "</div>"
      ],
      "text/plain": [
       "                    name   categories        lat         lng\n",
       "0             Java House  Coffee Shop  45.628922 -122.673578\n",
       "1         Compass Coffee  Coffee Shop  45.631346 -122.671669\n",
       "2        Relevant Coffee  Coffee Shop  45.634258 -122.671342\n",
       "3  Black Rock Coffee Bar  Coffee Shop  45.628872 -122.670197\n",
       "4                Mon Ami  Coffee Shop  45.635922 -122.671667\n",
       "5              Starbucks  Coffee Shop  45.627355 -122.674356\n",
       "6              Starbucks  Coffee Shop  45.639399 -122.671596"
      ]
     },
     "execution_count": 87,
     "metadata": {},
     "output_type": "execute_result"
    }
   ],
   "source": [
    "# Reseting the row index to 0-6.\n",
    "vancouver_coffee_venues.reset_index(drop=True)"
   ]
  },
  {
   "cell_type": "markdown",
   "metadata": {},
   "source": [
    "## Getting Bellingham Coffe Shop Data"
   ]
  },
  {
   "cell_type": "code",
   "execution_count": 88,
   "metadata": {},
   "outputs": [
    {
     "data": {
      "text/plain": [
       "'https://api.foursquare.com/v2/venues/explore?&client_id=S2HKIY0I0AZ20OL4M0MU3105W2LUBPHQOHP3R0CIPCVTXNSK&client_secret=NPKIMKVQZ4OGTW1VIIKBX4I3RQ4CLRG3FV41DKDBGZX0GQWB&v=20180605&ll=48.7544012,-122.4788361&radius=1000&limit=500'"
      ]
     },
     "execution_count": 88,
     "metadata": {},
     "output_type": "execute_result"
    }
   ],
   "source": [
    "# Getting the top 500 venues for Bellingham, WA\n",
    "LIMIT = 500 # limit of number of venues returned by Foursquare API\n",
    "radius = 1000 # define radius\n",
    "\n",
    "# create URL\n",
    "b_url = 'https://api.foursquare.com/v2/venues/explore?&client_id={}&client_secret={}&v={}&ll={},{}&radius={}&limit={}'.format(\n",
    "    CLIENT_ID, \n",
    "    CLIENT_SECRET, \n",
    "    VERSION, \n",
    "    b_latitude, \n",
    "    b_longitude, \n",
    "    radius, \n",
    "    LIMIT)\n",
    "b_url # display URL"
   ]
  },
  {
   "cell_type": "code",
   "execution_count": 89,
   "metadata": {},
   "outputs": [],
   "source": [
    "#getting the Vancouver WA venue json file\n",
    "b_results = requests.get(b_url).json()\n",
    "#b_results"
   ]
  },
  {
   "cell_type": "code",
   "execution_count": 90,
   "metadata": {},
   "outputs": [],
   "source": [
    "# function that extracts the category of the venue\n",
    "def get_category_type(row):\n",
    "    try:\n",
    "        categories_list = row['categories']\n",
    "    except:\n",
    "        categories_list = row['venue.categories']\n",
    "        \n",
    "    if len(categories_list) == 0:\n",
    "        return None\n",
    "    else:\n",
    "        return categories_list[0]['name']"
   ]
  },
  {
   "cell_type": "code",
   "execution_count": 91,
   "metadata": {},
   "outputs": [
    {
     "data": {
      "text/html": [
       "<div>\n",
       "<style scoped>\n",
       "    .dataframe tbody tr th:only-of-type {\n",
       "        vertical-align: middle;\n",
       "    }\n",
       "\n",
       "    .dataframe tbody tr th {\n",
       "        vertical-align: top;\n",
       "    }\n",
       "\n",
       "    .dataframe thead th {\n",
       "        text-align: right;\n",
       "    }\n",
       "</style>\n",
       "<table border=\"1\" class=\"dataframe\">\n",
       "  <thead>\n",
       "    <tr style=\"text-align: right;\">\n",
       "      <th></th>\n",
       "      <th>name</th>\n",
       "      <th>categories</th>\n",
       "      <th>lat</th>\n",
       "      <th>lng</th>\n",
       "    </tr>\n",
       "  </thead>\n",
       "  <tbody>\n",
       "    <tr>\n",
       "      <th>0</th>\n",
       "      <td>Mount Baker Theatre</td>\n",
       "      <td>Performing Arts Venue</td>\n",
       "      <td>48.752418</td>\n",
       "      <td>-122.477757</td>\n",
       "    </tr>\n",
       "    <tr>\n",
       "      <th>1</th>\n",
       "      <td>The Black Drop Coffeehouse</td>\n",
       "      <td>Coffee Shop</td>\n",
       "      <td>48.751879</td>\n",
       "      <td>-122.479771</td>\n",
       "    </tr>\n",
       "    <tr>\n",
       "      <th>2</th>\n",
       "      <td>Wander Brewing</td>\n",
       "      <td>Brewery</td>\n",
       "      <td>48.754287</td>\n",
       "      <td>-122.473947</td>\n",
       "    </tr>\n",
       "    <tr>\n",
       "      <th>3</th>\n",
       "      <td>Ciao Thyme</td>\n",
       "      <td>Café</td>\n",
       "      <td>48.753167</td>\n",
       "      <td>-122.476879</td>\n",
       "    </tr>\n",
       "    <tr>\n",
       "      <th>4</th>\n",
       "      <td>Bellingham Public Library</td>\n",
       "      <td>Bookstore</td>\n",
       "      <td>48.754580</td>\n",
       "      <td>-122.478853</td>\n",
       "    </tr>\n",
       "  </tbody>\n",
       "</table>\n",
       "</div>"
      ],
      "text/plain": [
       "                         name             categories        lat         lng\n",
       "0         Mount Baker Theatre  Performing Arts Venue  48.752418 -122.477757\n",
       "1  The Black Drop Coffeehouse            Coffee Shop  48.751879 -122.479771\n",
       "2              Wander Brewing                Brewery  48.754287 -122.473947\n",
       "3                  Ciao Thyme                   Café  48.753167 -122.476879\n",
       "4   Bellingham Public Library              Bookstore  48.754580 -122.478853"
      ]
     },
     "execution_count": 91,
     "metadata": {},
     "output_type": "execute_result"
    }
   ],
   "source": [
    "#getting the venue names, categories, and lat long from the json file.\n",
    "\n",
    "bellingham_venues = b_results['response']['groups'][0]['items']\n",
    "    \n",
    "bellingham_venues = pd.json_normalize(bellingham_venues) # flatten JSON\n",
    "\n",
    "# filter columns\n",
    "filtered_columns = ['venue.name', 'venue.categories', 'venue.location.lat', 'venue.location.lng']\n",
    "bellingham_venues =bellingham_venues.loc[:, filtered_columns]\n",
    "\n",
    "# filter the category for each row\n",
    "bellingham_venues['venue.categories'] = bellingham_venues.apply(get_category_type, axis=1)\n",
    "\n",
    "# clean columns\n",
    "bellingham_venues.columns = [col.split(\".\")[-1] for col in bellingham_venues.columns]\n",
    "\n",
    "bellingham_venues.head()"
   ]
  },
  {
   "cell_type": "code",
   "execution_count": 92,
   "metadata": {},
   "outputs": [
    {
     "data": {
      "text/html": [
       "<div>\n",
       "<style scoped>\n",
       "    .dataframe tbody tr th:only-of-type {\n",
       "        vertical-align: middle;\n",
       "    }\n",
       "\n",
       "    .dataframe tbody tr th {\n",
       "        vertical-align: top;\n",
       "    }\n",
       "\n",
       "    .dataframe thead th {\n",
       "        text-align: right;\n",
       "    }\n",
       "</style>\n",
       "<table border=\"1\" class=\"dataframe\">\n",
       "  <thead>\n",
       "    <tr style=\"text-align: right;\">\n",
       "      <th></th>\n",
       "      <th>name</th>\n",
       "      <th>categories</th>\n",
       "      <th>lat</th>\n",
       "      <th>lng</th>\n",
       "    </tr>\n",
       "  </thead>\n",
       "  <tbody>\n",
       "    <tr>\n",
       "      <th>1</th>\n",
       "      <td>The Black Drop Coffeehouse</td>\n",
       "      <td>Coffee Shop</td>\n",
       "      <td>48.751879</td>\n",
       "      <td>-122.479771</td>\n",
       "    </tr>\n",
       "    <tr>\n",
       "      <th>12</th>\n",
       "      <td>Camber</td>\n",
       "      <td>Coffee Shop</td>\n",
       "      <td>48.751016</td>\n",
       "      <td>-122.481185</td>\n",
       "    </tr>\n",
       "    <tr>\n",
       "      <th>36</th>\n",
       "      <td>Starbucks</td>\n",
       "      <td>Coffee Shop</td>\n",
       "      <td>48.749112</td>\n",
       "      <td>-122.478459</td>\n",
       "    </tr>\n",
       "    <tr>\n",
       "      <th>46</th>\n",
       "      <td>The Woods Coffee on Railroad and Chestnut</td>\n",
       "      <td>Coffee Shop</td>\n",
       "      <td>48.748085</td>\n",
       "      <td>-122.479707</td>\n",
       "    </tr>\n",
       "    <tr>\n",
       "      <th>58</th>\n",
       "      <td>Lettered Streets Coffeehouse</td>\n",
       "      <td>Coffee Shop</td>\n",
       "      <td>48.757264</td>\n",
       "      <td>-122.484722</td>\n",
       "    </tr>\n",
       "    <tr>\n",
       "      <th>69</th>\n",
       "      <td>Cool Beans Coffee</td>\n",
       "      <td>Coffee Shop</td>\n",
       "      <td>48.754616</td>\n",
       "      <td>-122.476133</td>\n",
       "    </tr>\n",
       "    <tr>\n",
       "      <th>74</th>\n",
       "      <td>Underground Coffee House</td>\n",
       "      <td>Coffee Shop</td>\n",
       "      <td>48.760579</td>\n",
       "      <td>-122.485393</td>\n",
       "    </tr>\n",
       "    <tr>\n",
       "      <th>75</th>\n",
       "      <td>Spartan Espresso</td>\n",
       "      <td>Coffee Shop</td>\n",
       "      <td>48.754958</td>\n",
       "      <td>-122.466154</td>\n",
       "    </tr>\n",
       "  </tbody>\n",
       "</table>\n",
       "</div>"
      ],
      "text/plain": [
       "                                         name   categories        lat  \\\n",
       "1                  The Black Drop Coffeehouse  Coffee Shop  48.751879   \n",
       "12                                     Camber  Coffee Shop  48.751016   \n",
       "36                                  Starbucks  Coffee Shop  48.749112   \n",
       "46  The Woods Coffee on Railroad and Chestnut  Coffee Shop  48.748085   \n",
       "58               Lettered Streets Coffeehouse  Coffee Shop  48.757264   \n",
       "69                          Cool Beans Coffee  Coffee Shop  48.754616   \n",
       "74                   Underground Coffee House  Coffee Shop  48.760579   \n",
       "75                           Spartan Espresso  Coffee Shop  48.754958   \n",
       "\n",
       "           lng  \n",
       "1  -122.479771  \n",
       "12 -122.481185  \n",
       "36 -122.478459  \n",
       "46 -122.479707  \n",
       "58 -122.484722  \n",
       "69 -122.476133  \n",
       "74 -122.485393  \n",
       "75 -122.466154  "
      ]
     },
     "execution_count": 92,
     "metadata": {},
     "output_type": "execute_result"
    }
   ],
   "source": [
    "#Removing all venues that are not Coffee Shops\n",
    "bellingham_coffee_venues = bellingham_venues.loc[bellingham_venues['categories'] == 'Coffee Shop']\n",
    "bellingham_coffee_venues"
   ]
  },
  {
   "cell_type": "code",
   "execution_count": 93,
   "metadata": {},
   "outputs": [
    {
     "data": {
      "text/html": [
       "<div>\n",
       "<style scoped>\n",
       "    .dataframe tbody tr th:only-of-type {\n",
       "        vertical-align: middle;\n",
       "    }\n",
       "\n",
       "    .dataframe tbody tr th {\n",
       "        vertical-align: top;\n",
       "    }\n",
       "\n",
       "    .dataframe thead th {\n",
       "        text-align: right;\n",
       "    }\n",
       "</style>\n",
       "<table border=\"1\" class=\"dataframe\">\n",
       "  <thead>\n",
       "    <tr style=\"text-align: right;\">\n",
       "      <th></th>\n",
       "      <th>name</th>\n",
       "      <th>categories</th>\n",
       "      <th>lat</th>\n",
       "      <th>lng</th>\n",
       "    </tr>\n",
       "  </thead>\n",
       "  <tbody>\n",
       "    <tr>\n",
       "      <th>0</th>\n",
       "      <td>The Black Drop Coffeehouse</td>\n",
       "      <td>Coffee Shop</td>\n",
       "      <td>48.751879</td>\n",
       "      <td>-122.479771</td>\n",
       "    </tr>\n",
       "    <tr>\n",
       "      <th>1</th>\n",
       "      <td>Camber</td>\n",
       "      <td>Coffee Shop</td>\n",
       "      <td>48.751016</td>\n",
       "      <td>-122.481185</td>\n",
       "    </tr>\n",
       "    <tr>\n",
       "      <th>2</th>\n",
       "      <td>Starbucks</td>\n",
       "      <td>Coffee Shop</td>\n",
       "      <td>48.749112</td>\n",
       "      <td>-122.478459</td>\n",
       "    </tr>\n",
       "    <tr>\n",
       "      <th>3</th>\n",
       "      <td>The Woods Coffee on Railroad and Chestnut</td>\n",
       "      <td>Coffee Shop</td>\n",
       "      <td>48.748085</td>\n",
       "      <td>-122.479707</td>\n",
       "    </tr>\n",
       "    <tr>\n",
       "      <th>4</th>\n",
       "      <td>Lettered Streets Coffeehouse</td>\n",
       "      <td>Coffee Shop</td>\n",
       "      <td>48.757264</td>\n",
       "      <td>-122.484722</td>\n",
       "    </tr>\n",
       "    <tr>\n",
       "      <th>5</th>\n",
       "      <td>Cool Beans Coffee</td>\n",
       "      <td>Coffee Shop</td>\n",
       "      <td>48.754616</td>\n",
       "      <td>-122.476133</td>\n",
       "    </tr>\n",
       "    <tr>\n",
       "      <th>6</th>\n",
       "      <td>Underground Coffee House</td>\n",
       "      <td>Coffee Shop</td>\n",
       "      <td>48.760579</td>\n",
       "      <td>-122.485393</td>\n",
       "    </tr>\n",
       "    <tr>\n",
       "      <th>7</th>\n",
       "      <td>Spartan Espresso</td>\n",
       "      <td>Coffee Shop</td>\n",
       "      <td>48.754958</td>\n",
       "      <td>-122.466154</td>\n",
       "    </tr>\n",
       "  </tbody>\n",
       "</table>\n",
       "</div>"
      ],
      "text/plain": [
       "                                        name   categories        lat  \\\n",
       "0                 The Black Drop Coffeehouse  Coffee Shop  48.751879   \n",
       "1                                     Camber  Coffee Shop  48.751016   \n",
       "2                                  Starbucks  Coffee Shop  48.749112   \n",
       "3  The Woods Coffee on Railroad and Chestnut  Coffee Shop  48.748085   \n",
       "4               Lettered Streets Coffeehouse  Coffee Shop  48.757264   \n",
       "5                          Cool Beans Coffee  Coffee Shop  48.754616   \n",
       "6                   Underground Coffee House  Coffee Shop  48.760579   \n",
       "7                           Spartan Espresso  Coffee Shop  48.754958   \n",
       "\n",
       "          lng  \n",
       "0 -122.479771  \n",
       "1 -122.481185  \n",
       "2 -122.478459  \n",
       "3 -122.479707  \n",
       "4 -122.484722  \n",
       "5 -122.476133  \n",
       "6 -122.485393  \n",
       "7 -122.466154  "
      ]
     },
     "execution_count": 93,
     "metadata": {},
     "output_type": "execute_result"
    }
   ],
   "source": [
    "bellingham_coffee_venues.reset_index(drop=True)"
   ]
  },
  {
   "cell_type": "markdown",
   "metadata": {},
   "source": [
    "#### Based on this data Foursquare has seven coffee shops for both Vancouver and Bellingham."
   ]
  },
  {
   "cell_type": "code",
   "execution_count": 94,
   "metadata": {},
   "outputs": [
    {
     "data": {
      "text/html": [
       "<div>\n",
       "<style scoped>\n",
       "    .dataframe tbody tr th:only-of-type {\n",
       "        vertical-align: middle;\n",
       "    }\n",
       "\n",
       "    .dataframe tbody tr th {\n",
       "        vertical-align: top;\n",
       "    }\n",
       "\n",
       "    .dataframe thead th {\n",
       "        text-align: right;\n",
       "    }\n",
       "</style>\n",
       "<table border=\"1\" class=\"dataframe\">\n",
       "  <thead>\n",
       "    <tr style=\"text-align: right;\">\n",
       "      <th></th>\n",
       "      <th>City</th>\n",
       "      <th>Population-City</th>\n",
       "      <th>Population-Metro</th>\n",
       "      <th>Median Income</th>\n",
       "    </tr>\n",
       "  </thead>\n",
       "  <tbody>\n",
       "    <tr>\n",
       "      <th>0</th>\n",
       "      <td>Bellingham</td>\n",
       "      <td>80885</td>\n",
       "      <td>225685</td>\n",
       "      <td>46114</td>\n",
       "    </tr>\n",
       "    <tr>\n",
       "      <th>1</th>\n",
       "      <td>Vancouver</td>\n",
       "      <td>161791</td>\n",
       "      <td>2478810</td>\n",
       "      <td>41618</td>\n",
       "    </tr>\n",
       "  </tbody>\n",
       "</table>\n",
       "</div>"
      ],
      "text/plain": [
       "         City Population-City Population-Metro Median Income\n",
       "0  Bellingham           80885           225685         46114\n",
       "1   Vancouver          161791          2478810         41618"
      ]
     },
     "execution_count": 94,
     "metadata": {},
     "output_type": "execute_result"
    }
   ],
   "source": [
    "#Population and income data for the two cities taken from their Wikipedia pages.\n",
    "cities_data = {'City':  ['Bellingham', 'Vancouver'],\n",
    "        'Population-City': ['80885', '161791'],\n",
    "        'Population-Metro': ['225685', '2478810'],       \n",
    "        'Median Income':['46114','41618'],\n",
    "        }\n",
    "cities_df = pd.DataFrame (cities_data, columns = ['City','Population-City','Population-Metro','Median Income'])\n",
    "cities_df"
   ]
  },
  {
   "cell_type": "markdown",
   "metadata": {},
   "source": [
    "## Results"
   ]
  },
  {
   "cell_type": "markdown",
   "metadata": {},
   "source": [
    "### Mapping the Coffee Shops"
   ]
  },
  {
   "cell_type": "markdown",
   "metadata": {},
   "source": [
    "We can add markers to the maps to see where the coffee shops are located.  This will help to identify if there are any under served neighborhoods."
   ]
  },
  {
   "cell_type": "code",
   "execution_count": 95,
   "metadata": {},
   "outputs": [
    {
     "data": {
      "text/html": [
       "<div style=\"width:100%;\"><div style=\"position:relative;width:100%;height:0;padding-bottom:60%;\"><iframe src=\"about:blank\" style=\"position:absolute;width:100%;height:100%;left:0;top:0;border:none !important;\" data-html=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 onload=\"this.contentDocument.open();this.contentDocument.write(atob(this.getAttribute('data-html')));this.contentDocument.close();\" allowfullscreen webkitallowfullscreen mozallowfullscreen></iframe></div></div>"
      ],
      "text/plain": [
       "<folium.folium.Map at 0x7f358942c358>"
      ]
     },
     "execution_count": 95,
     "metadata": {},
     "output_type": "execute_result"
    }
   ],
   "source": [
    "# create map of Vancouver Coffee Shops using latitude and longitude values\n",
    "map_vancouver = folium.Map(location=[v_latitude, v_longitude], zoom_start=15)\n",
    "\n",
    "# add markers to map\n",
    "for lat, lng, name, categories in zip(vancouver_coffee_venues['lat'], vancouver_coffee_venues['lng'], vancouver_coffee_venues['name'], vancouver_coffee_venues['categories']):\n",
    "    label = '{}, {}'.format(name, categories)\n",
    "    label = folium.Popup(label, parse_html=True)\n",
    "    folium.CircleMarker(\n",
    "        [lat, lng],\n",
    "        radius=5,\n",
    "        popup=label,\n",
    "        color='blue',\n",
    "        fill=True,\n",
    "        fill_color='#3186cc',\n",
    "        fill_opacity=0.7,\n",
    "        parse_html=False).add_to(map_vancouver)  \n",
    "    \n",
    "map_vancouver"
   ]
  },
  {
   "cell_type": "code",
   "execution_count": 96,
   "metadata": {},
   "outputs": [
    {
     "data": {
      "text/html": [
       "<div style=\"width:100%;\"><div style=\"position:relative;width:100%;height:0;padding-bottom:60%;\"><iframe src=\"about:blank\" style=\"position:absolute;width:100%;height:100%;left:0;top:0;border:none !important;\" data-html=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 onload=\"this.contentDocument.open();this.contentDocument.write(atob(this.getAttribute('data-html')));this.contentDocument.close();\" allowfullscreen webkitallowfullscreen mozallowfullscreen></iframe></div></div>"
      ],
      "text/plain": [
       "<folium.folium.Map at 0x7f35881da0b8>"
      ]
     },
     "execution_count": 96,
     "metadata": {},
     "output_type": "execute_result"
    }
   ],
   "source": [
    "# create map of Bellingham Coffee Shops using latitude and longitude values\n",
    "map_bellingham = folium.Map(location=[b_latitude, b_longitude], zoom_start=15)\n",
    "\n",
    "# add markers to map\n",
    "for lat, lng, name, categories in zip(bellingham_coffee_venues['lat'], bellingham_coffee_venues['lng'], bellingham_coffee_venues['name'], bellingham_coffee_venues['categories']):\n",
    "    label = '{}, {}'.format(name, categories)\n",
    "    label = folium.Popup(label, parse_html=True)\n",
    "    folium.CircleMarker(\n",
    "        [lat, lng],\n",
    "        radius=5,\n",
    "        popup=label,\n",
    "        color='blue',\n",
    "        fill=True,\n",
    "        fill_color='#3186cc',\n",
    "        fill_opacity=0.7,\n",
    "        parse_html=False).add_to(map_bellingham)  \n",
    "    \n",
    "map_bellingham"
   ]
  },
  {
   "cell_type": "markdown",
   "metadata": {},
   "source": [
    "### Population Comparison"
   ]
  },
  {
   "cell_type": "code",
   "execution_count": 97,
   "metadata": {},
   "outputs": [
    {
     "data": {
      "image/png": "[encoded data removed]",
      "text/plain": [
       "<Figure size 1440x720 with 1 Axes>"
      ]
     },
     "metadata": {
      "needs_background": "light"
     },
     "output_type": "display_data"
    }
   ],
   "source": [
    "# Chart is based on example that can be found at https://matplotlib.org/3.2.1/gallery/lines_bars_and_markers/barchart.html#sphx-glr-gallery-lines-bars-and-markers-barchart-py\n",
    "\n",
    "labels = ['City', 'Metro']\n",
    "Bellingham = [80885, 225685]\n",
    "Vancouver = [161791, 2478810]\n",
    "\n",
    "x = np.arange(len(labels))  # the label locations\n",
    "width = 0.35  # the width of the bars\n",
    "\n",
    "fig, ax = plt.subplots(figsize=(20,10))\n",
    "rects1 = ax.bar(x - width/2, Bellingham, width, label='Bellingham')\n",
    "rects2 = ax.bar(x + width/2, Vancouver, width, label='Vancouver')\n",
    "\n",
    "# Add some text for labels, title and custom x-axis tick labels, etc.\n",
    "ax.set_ylabel('Population')\n",
    "ax.set_title('Population of City and Metro Area')\n",
    "ax.set_xticks(x)\n",
    "ax.set_xticklabels(labels)\n",
    "ax.legend()\n",
    "\n",
    "\n",
    "def autolabel(rects):\n",
    "    \"\"\"Attach a text label above each bar in *rects*, displaying its height.\"\"\"\n",
    "    for rect in rects:\n",
    "        height = rect.get_height()\n",
    "        ax.annotate('{}'.format(height),\n",
    "                    xy=(rect.get_x() + rect.get_width() / 2, height),\n",
    "                    xytext=(0, 3),  # 3 points vertical offset\n",
    "                    textcoords=\"offset points\",\n",
    "                    ha='center', va='bottom')\n",
    "\n",
    "\n",
    "autolabel(rects1)\n",
    "autolabel(rects2)\n",
    "\n",
    "fig.tight_layout()\n",
    "\n",
    "plt.show()"
   ]
  },
  {
   "cell_type": "markdown",
   "metadata": {},
   "source": [
    "Based on population data from the cities Wikipedia pages it appears that the population size of Vancouver, WA is roughly twice the size of Bellingham.  However, when we look at the population size of the larger metro area it over ten times larger than Bellingham."
   ]
  },
  {
   "cell_type": "code",
   "execution_count": 100,
   "metadata": {},
   "outputs": [
    {
     "data": {
      "image/png": "[encoded data removed]",
      "text/plain": [
       "<Figure size 1440x720 with 1 Axes>"
      ]
     },
     "metadata": {
      "needs_background": "light"
     },
     "output_type": "display_data"
    }
   ],
   "source": [
    "# Tim Horton franchise data taken from https://company.timhortons.com/us/en/corporate/franchising-frequently-asked-questions.php\n",
    "# Dunkin Donut franchise data taken from https://www.findafranchise.com/franchise/dunkin-donuts?utm_source=google&utm_medium=cpc&utm_term=dunkin%27%2Bdonuts%2Bfranchise%2Fexact&utm_campaign=franchise-brands-faf&gclid=Cj0KCQjw4dr0BRCxARIsAKUNjWQKQnNYRLfYAuPz1WLi3oLLLVFIjLTS3-0wv4J1kgAHzIxPbIbpgNwaAhMiEALw_wcB\n",
    "\n",
    "labels = ['Tim Hortons', 'Dunkin Donuts']\n",
    "Net_Worth = [1500000, 500000]\n",
    "Liquid_Assets = [500000, 250000]\n",
    "\n",
    "x = np.arange(len(labels))  # the label locations\n",
    "width = 0.35  # the width of the bars\n",
    "\n",
    "fig, ax = plt.subplots(figsize=(20,10))\n",
    "rects1 = ax.bar(x - width/2, Net_Worth, width, label='Net Worth')\n",
    "rects2 = ax.bar(x + width/2, Liquid_Assets, width, label='Liquid Assets')\n",
    "\n",
    "# Add some text for labels, title and custom x-axis tick labels, etc.\n",
    "ax.set_ylabel('Dollars')\n",
    "ax.set_title('Franchise Start Up Costs')\n",
    "ax.set_xticks(x)\n",
    "ax.set_xticklabels(labels)\n",
    "ax.legend()\n",
    "\n",
    "\n",
    "def autolabel(rects):\n",
    "    \"\"\"Attach a text label above each bar in *rects*, displaying its height.\"\"\"\n",
    "    for rect in rects:\n",
    "        height = rect.get_height()\n",
    "        ax.annotate('{}'.format(height),\n",
    "                    xy=(rect.get_x() + rect.get_width() / 2, height),\n",
    "                    xytext=(0, 3),  # 3 points vertical offset\n",
    "                    textcoords=\"offset points\",\n",
    "                    ha='center', va='bottom')\n",
    "\n",
    "\n",
    "autolabel(rects1)\n",
    "autolabel(rects2)\n",
    "\n",
    "fig.tight_layout()\n",
    "\n",
    "plt.show()"
   ]
  },
  {
   "cell_type": "markdown",
   "metadata": {},
   "source": [
    "Starbucks does not sell franchises and neither does Preet's Coffee.  Two national brands that do sell franchises are Tim Hortons and Dunkin Donuts.  Based on the franchise start up costs it is significantly cheaper to start a Dunkin Donuts."
   ]
  },
  {
   "cell_type": "markdown",
   "metadata": {},
   "source": [
    "## Discussion"
   ]
  },
  {
   "cell_type": "markdown",
   "metadata": {},
   "source": [
    "- Even though there were only 3 cities in the top 100 list of best cities for coffee lovers, the cities from the North West scored high on the list, and Seattle was at the top.\n",
    "- Both Bellingham and Vancouver Washington have 7 coffee shops listed in Foursquare when using a radius of 1000.   \n",
    "- The majority of the coffee shops appear to be small local independent coffee shops.  \n",
    "- The only national brand of coffee shop found was Starbucks.  Vancouver has two, and Bellingham only has 1.\n",
    "- In both cities the coffee shops appear to be very concentrated in the central downtown area of the city in close proximity to each other. \n",
    "- Vancouver, WA has a significantly larger population in the surrounding metro area.\n",
    "- Dunkin Donuts franchise costs are considerably lower than Tim Hortons."
   ]
  },
  {
   "cell_type": "markdown",
   "metadata": {},
   "source": [
    "### Recommendations\n",
    "- Given the fact that the state of Washignton had the top city for coffee lovers, but there were only 3 cities on the list for the region, suggests that there is still untapped demand for great coffee in the region.\n",
    "- Based on the data from Foursquare, neither Bellingham or Vancouver Washington appear to be overly saturated with coffee shops and could probably support a new venue.  \n",
    "- Given the fact that the coffee shops in both cities appear to be located in relatively close proximity to each other, it may be advisable to select a location away from the other coffee shops and closer to colleges, and suburban shopping centers.  \n",
    "- When looking at the population data for the surrounding metro area, it seems clear that Vancouver is likely the best choice for a new Coffee Shop.\n",
    "- If start up cost is an issue then Dunkin Donuts may be a good choice for a franchise."
   ]
  },
  {
   "cell_type": "markdown",
   "metadata": {},
   "source": [
    "## Conclusions"
   ]
  },
  {
   "cell_type": "markdown",
   "metadata": {},
   "source": [
    "In Conclusion, based on the data that was examined in this report it seems clear that a new coffee shop could be a profitable investment.  Of the two cities, Vancouver, WA looks like the preferable city.  Of the franchises looked at, Dunkin Donuts is the cheapest with respect to Net Worth and Liquid Assets required."
   ]
  },
  {
   "cell_type": "markdown",
   "metadata": {},
   "source": [
    "### Caveats\n",
    "The conclusions arrived at in this notebook are based on Foursquare data should be taken with some caution since Foursquare does not contain an exhaustive list of venues in a particular city.  This can be demonstrated with a quick Google search for coffee shops in Vancouver and Bellingham area.  Such a search will return a larger total number of coffee shops in those cities than was returned by Foursquare. "
   ]
  },
  {
   "cell_type": "markdown",
   "metadata": {},
   "source": [
    "A google maps image of coffee shops in Bellingham, Washington.\n",
    "\n",
    "<img src=\"bellingham_wa_coffee_shops_google.png\">\n",
    "\n",
    "A google maps image of coffee shops in Vancouver, Washington.\n",
    "\n",
    "<img src=\"vancouver_wa_coffee_shops_google.png\">"
   ]
  },
  {
   "cell_type": "markdown",
   "metadata": {},
   "source": [
    "### Acknowledgements\n",
    "The data analysis methods and python code used in this notebook borrows heavily from code patterns that are covered in the lesson modules for the various badges that are covered as part of the IBM Data Science Certificate program.  In addition to these lesson modules there is a wealth of data online on how to create python data analysis and visualizations.  I have noted many of these valuable resources in my code comments.\n",
    "\n",
    "### Disclaimer\n",
    "I am not a financial advisor and have no formal training in investment consultation.  This analysis was done as part of the IBM Data Science Certificate program and was done for purely academic reasons as part of the capstone project.  Further market analysis should be done to truly evaluate the viability of a coffee shop in these cities. "
   ]
  }
 ],
 "metadata": {
  "kernelspec": {
   "display_name": "Python",
   "language": "python",
   "name": "conda-env-python-py"
  },
  "language_info": {
   "codemirror_mode": {
    "name": "ipython",
    "version": 3
   },
   "file_extension": ".py",
   "mimetype": "text/x-python",
   "name": "python",
   "nbconvert_exporter": "python",
   "pygments_lexer": "ipython3",
   "version": "3.6.10"
  }
 },
 "nbformat": 4,
 "nbformat_minor": 4
}
